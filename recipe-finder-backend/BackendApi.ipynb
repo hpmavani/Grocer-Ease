{
 "cells": [
  {
   "cell_type": "code",
   "execution_count": 11,
   "metadata": {},
   "outputs": [
    {
     "name": "stdout",
     "output_type": "stream",
     "text": [
      "Requirement already satisfied: flask in c:\\users\\hiyam\\appdata\\local\\programs\\python\\python312\\lib\\site-packages (3.1.0)\n",
      "Requirement already satisfied: Werkzeug>=3.1 in c:\\users\\hiyam\\appdata\\local\\programs\\python\\python312\\lib\\site-packages (from flask) (3.1.3)\n",
      "Requirement already satisfied: Jinja2>=3.1.2 in c:\\users\\hiyam\\appdata\\local\\programs\\python\\python312\\lib\\site-packages (from flask) (3.1.5)\n",
      "Requirement already satisfied: itsdangerous>=2.2 in c:\\users\\hiyam\\appdata\\local\\programs\\python\\python312\\lib\\site-packages (from flask) (2.2.0)\n",
      "Requirement already satisfied: click>=8.1.3 in c:\\users\\hiyam\\appdata\\local\\programs\\python\\python312\\lib\\site-packages (from flask) (8.1.8)\n",
      "Requirement already satisfied: blinker>=1.9 in c:\\users\\hiyam\\appdata\\local\\programs\\python\\python312\\lib\\site-packages (from flask) (1.9.0)\n",
      "Requirement already satisfied: colorama in c:\\users\\hiyam\\appdata\\roaming\\python\\python312\\site-packages (from click>=8.1.3->flask) (0.4.6)\n",
      "Requirement already satisfied: MarkupSafe>=2.0 in c:\\users\\hiyam\\appdata\\local\\programs\\python\\python312\\lib\\site-packages (from Jinja2>=3.1.2->flask) (3.0.2)\n",
      "Note: you may need to restart the kernel to use updated packages.\n"
     ]
    },
    {
     "name": "stderr",
     "output_type": "stream",
     "text": [
      "\n",
      "[notice] A new release of pip is available: 24.2 -> 25.0\n",
      "[notice] To update, run: python.exe -m pip install --upgrade pip\n"
     ]
    }
   ],
   "source": [
    "%pip install flask --upgrade"
   ]
  },
  {
   "cell_type": "code",
   "execution_count": 12,
   "metadata": {},
   "outputs": [],
   "source": [
    "import json\n",
    "from flask import jsonify, Flask, request"
   ]
  },
  {
   "cell_type": "code",
   "execution_count": 13,
   "metadata": {},
   "outputs": [],
   "source": [
    "app = Flask(__name__)"
   ]
  },
  {
   "cell_type": "code",
   "execution_count": 14,
   "metadata": {},
   "outputs": [],
   "source": [
    "recipes = [{\n",
    "    \"image\": \"this is the image\"\n",
    "    }]\n"
   ]
  },
  {
   "cell_type": "code",
   "execution_count": 15,
   "metadata": {},
   "outputs": [
    {
     "name": "stdout",
     "output_type": "stream",
     "text": [
      "Requirement already satisfied: Pillow in c:\\users\\hiyam\\appdata\\local\\programs\\python\\python312\\lib\\site-packages (11.1.0)\n",
      "Note: you may need to restart the kernel to use updated packages.\n"
     ]
    },
    {
     "name": "stderr",
     "output_type": "stream",
     "text": [
      "\n",
      "[notice] A new release of pip is available: 24.2 -> 25.0\n",
      "[notice] To update, run: python.exe -m pip install --upgrade pip\n"
     ]
    }
   ],
   "source": [
    "%pip install Pillow --upgrade\n"
   ]
  },
  {
   "cell_type": "code",
   "execution_count": 16,
   "metadata": {},
   "outputs": [],
   "source": [
    "from PIL import Image"
   ]
  },
  {
   "cell_type": "code",
   "execution_count": 17,
   "metadata": {},
   "outputs": [],
   "source": [
    "FOLDER = \"images/\"\n",
    "file = \"image.png\"\n",
    "file_path = FOLDER + file\n"
   ]
  },
  {
   "cell_type": "code",
   "execution_count": 18,
   "metadata": {},
   "outputs": [],
   "source": [
    "img = Image.open(file)\n",
    "\n",
    "img.save(file_path)"
   ]
  },
  {
   "cell_type": "code",
   "execution_count": 19,
   "metadata": {},
   "outputs": [],
   "source": [
    "import gemini_api\n",
    "response = gemini_api.get_recipe(\"C:/Users/hiyam/OneDrive/Documents/Source/hackathons/HackRUS2025/Recipe-Finder/recipe-finder-backend/image.png\")"
   ]
  },
  {
   "cell_type": "code",
   "execution_count": 130,
   "metadata": {},
   "outputs": [
    {
     "data": {
      "text/plain": [
       "'[{\"extra_ingredients\": \"Olive oil, salt, pepper\", \"recipe_instructions\": \"1. Wash and chop potatoes and sweet potatoes into 1-inch cubes. 2. Toss with olive oil, salt, and pepper. 3. Spread on a baking sheet and roast at 400°F (200°C) for 20-25 minutes, or until tender. 4.  While the potatoes roast, prepare the cilantro by washing and chopping it finely. 5. Once the potatoes are cooked, sprinkle with fresh cilantro before serving.\", \"recipe_name\": \"Roasted Sweet and Regular Potatoes with Cilantro\"}, {\"extra_ingredients\": \"Butter, salt, pepper\", \"recipe_instructions\": \"1. Boil or steam the Ditalini pasta until al dente. 2. While the pasta cooks, melt butter in a pan. 3. Drain the pasta and add it to the pan with the melted butter. 4. Season with salt and pepper to taste. 5. Stir well to combine. 6. Serve immediately.\", \"recipe_name\": \"Simple Ditalini Pasta with Butter\"}, {\"extra_ingredients\": \"Salt, pepper\", \"recipe_instructions\": \"1. Wash and chop zucchini and mushrooms. 2. Heat olive oil in a pan and sauté the vegetables until tender. Season with salt and pepper to taste. 3. Serve as a side dish or add to other dishes.\", \"recipe_name\": \"Sautéed Zucchini and Mushrooms\"}, {\"extra_ingredients\": \"Olive oil, salt, pepper\", \"recipe_instructions\": \"1. Heat olive oil in a pan. 2. Add chopped zucchini and mushrooms and sauté until softened. 3.  Add the chopped parsley and cook for another minute. 4. Season with salt and pepper to taste. 5. Serve as a side dish or topping.\", \"recipe_name\": \"Zucchini, Mushroom and Parsley Saute\"}, {\"extra_ingredients\": \"Salt\", \"recipe_instructions\": \"1. Heat a little olive oil in a pan. 2. Add chopped onions (if you have any) and garlic (if you have any). 3. Add the chopped potatoes and sweet potatoes. 4. Add a splash of vegetable broth or water if needed. 5. Cover and cook until tender. Season with salt to taste.  6. Serve warm.\", \"recipe_name\": \"Potato and Sweet Potato Mash\"}]'"
      ]
     },
     "execution_count": 130,
     "metadata": {},
     "output_type": "execute_result"
    }
   ],
   "source": [
    "recipe = response[\"candidates\"][0][\"content\"][\"parts\"][0][\"text\"]\n",
    "recipe"
   ]
  },
  {
   "cell_type": "code",
   "execution_count": 131,
   "metadata": {},
   "outputs": [
    {
     "data": {
      "text/plain": [
       "'\"extra_ingredients\": \"Olive oil, salt, pepper\", \"recipe_instructions\": \"1. Wash and chop potatoes and sweet potatoes into 1-inch cubes. 2. Toss with olive oil, salt, and pepper. 3. Spread on a baking sheet and roast at 400°F (200°C) for 20-25 minutes, or until tender. 4.  While the potatoes roast, prepare the cilantro by washing and chopping it finely. 5. Once the potatoes are cooked, sprinkle with fresh cilantro before serving.\", \"recipe_name\": \"Roasted Sweet and Regular Potatoes with Cilantro\"}, {\"extra_ingredients\": \"Butter, salt, pepper\", \"recipe_instructions\": \"1. Boil or steam the Ditalini pasta until al dente. 2. While the pasta cooks, melt butter in a pan. 3. Drain the pasta and add it to the pan with the melted butter. 4. Season with salt and pepper to taste. 5. Stir well to combine. 6. Serve immediately.\", \"recipe_name\": \"Simple Ditalini Pasta with Butter\"}, {\"extra_ingredients\": \"Salt, pepper\", \"recipe_instructions\": \"1. Wash and chop zucchini and mushrooms. 2. Heat olive oil in a pan and sauté the vegetables until tender. Season with salt and pepper to taste. 3. Serve as a side dish or add to other dishes.\", \"recipe_name\": \"Sautéed Zucchini and Mushrooms\"}, {\"extra_ingredients\": \"Olive oil, salt, pepper\", \"recipe_instructions\": \"1. Heat olive oil in a pan. 2. Add chopped zucchini and mushrooms and sauté until softened. 3.  Add the chopped parsley and cook for another minute. 4. Season with salt and pepper to taste. 5. Serve as a side dish or topping.\", \"recipe_name\": \"Zucchini, Mushroom and Parsley Saute\"}, {\"extra_ingredients\": \"Salt\", \"recipe_instructions\": \"1. Heat a little olive oil in a pan. 2. Add chopped onions (if you have any) and garlic (if you have any). 3. Add the chopped potatoes and sweet potatoes. 4. Add a splash of vegetable broth or water if needed. 5. Cover and cook until tender. Season with salt to taste.  6. Serve warm.\", \"recipe_name\": \"Potato and Sweet Potato Mash\"'"
      ]
     },
     "execution_count": 131,
     "metadata": {},
     "output_type": "execute_result"
    }
   ],
   "source": [
    "recipe = recipe[2:-2]\n",
    "recipe"
   ]
  },
  {
   "cell_type": "code",
   "execution_count": 145,
   "metadata": {},
   "outputs": [
    {
     "data": {
      "text/plain": [
       "[('extra_ingredients', 'Olive oil, salt, pepper'),\n",
       " ('recipe_instructions',\n",
       "  '1. Wash and chop potatoes and sweet potatoes into 1-inch cubes. 2. Toss with olive oil, salt, and pepper. 3. Spread on a baking sheet and roast at 400°F (200°C) for 20-25 minutes, or until tender. 4.  While the potatoes roast, prepare the cilantro by washing and chopping it finely. 5. Once the potatoes are cooked, sprinkle with fresh cilantro before serving.'),\n",
       " ('recipe_name', 'Roasted Sweet and Regular Potatoes with Cilantro'),\n",
       " ('extra_ingredients', 'Butter, salt, pepper'),\n",
       " ('recipe_instructions',\n",
       "  '1. Boil or steam the Ditalini pasta until al dente. 2. While the pasta cooks, melt butter in a pan. 3. Drain the pasta and add it to the pan with the melted butter. 4. Season with salt and pepper to taste. 5. Stir well to combine. 6. Serve immediately.'),\n",
       " ('recipe_name', 'Simple Ditalini Pasta with Butter'),\n",
       " ('extra_ingredients', 'Salt, pepper'),\n",
       " ('recipe_instructions',\n",
       "  '1. Wash and chop zucchini and mushrooms. 2. Heat olive oil in a pan and sauté the vegetables until tender. Season with salt and pepper to taste. 3. Serve as a side dish or add to other dishes.'),\n",
       " ('recipe_name', 'Sautéed Zucchini and Mushrooms'),\n",
       " ('extra_ingredients', 'Olive oil, salt, pepper'),\n",
       " ('recipe_instructions',\n",
       "  '1. Heat olive oil in a pan. 2. Add chopped zucchini and mushrooms and sauté until softened. 3.  Add the chopped parsley and cook for another minute. 4. Season with salt and pepper to taste. 5. Serve as a side dish or topping.'),\n",
       " ('recipe_name', 'Zucchini, Mushroom and Parsley Saute'),\n",
       " ('extra_ingredients', 'Salt'),\n",
       " ('recipe_instructions',\n",
       "  '1. Heat a little olive oil in a pan. 2. Add chopped onions (if you have any) and garlic (if you have any). 3. Add the chopped potatoes and sweet potatoes. 4. Add a splash of vegetable broth or water if needed. 5. Cover and cook until tender. Season with salt to taste.  6. Serve warm.'),\n",
       " ('recipe_name', 'Potato and Sweet Potato Mash')]"
      ]
     },
     "execution_count": 145,
     "metadata": {},
     "output_type": "execute_result"
    }
   ],
   "source": [
    "import re\n",
    "pattern = r'\"(\\w+)\":\\s*\"([^\"]+)\"'\n",
    "\n",
    "# Extract key-value pairs\n",
    "matches = re.findall(pattern, recipe)\n",
    "len(matches)\n",
    "matches\n"
   ]
  },
  {
   "cell_type": "code",
   "execution_count": 163,
   "metadata": {},
   "outputs": [
    {
     "data": {
      "text/plain": [
       "[{'extra_ingredients': 'Olive oil, salt, pepper',\n",
       "  'recipe_instructions': '1. Wash and chop potatoes and sweet potatoes into 1-inch cubes. 2. Toss with olive oil, salt, and pepper. 3. Spread on a baking sheet and roast at 400°F (200°C) for 20-25 minutes, or until tender. 4.  While the potatoes roast, prepare the cilantro by washing and chopping it finely. 5. Once the potatoes are cooked, sprinkle with fresh cilantro before serving.',\n",
       "  'recipe_name': 'Roasted Sweet and Regular Potatoes with Cilantro'},\n",
       " {'extra_ingredients': 'Butter, salt, pepper',\n",
       "  'recipe_instructions': '1. Boil or steam the Ditalini pasta until al dente. 2. While the pasta cooks, melt butter in a pan. 3. Drain the pasta and add it to the pan with the melted butter. 4. Season with salt and pepper to taste. 5. Stir well to combine. 6. Serve immediately.',\n",
       "  'recipe_name': 'Simple Ditalini Pasta with Butter'},\n",
       " {'extra_ingredients': 'Salt, pepper',\n",
       "  'recipe_instructions': '1. Wash and chop zucchini and mushrooms. 2. Heat olive oil in a pan and sauté the vegetables until tender. Season with salt and pepper to taste. 3. Serve as a side dish or add to other dishes.',\n",
       "  'recipe_name': 'Sautéed Zucchini and Mushrooms'},\n",
       " {'extra_ingredients': 'Olive oil, salt, pepper',\n",
       "  'recipe_instructions': '1. Heat olive oil in a pan. 2. Add chopped zucchini and mushrooms and sauté until softened. 3.  Add the chopped parsley and cook for another minute. 4. Season with salt and pepper to taste. 5. Serve as a side dish or topping.',\n",
       "  'recipe_name': 'Zucchini, Mushroom and Parsley Saute'},\n",
       " {'extra_ingredients': 'Salt',\n",
       "  'recipe_instructions': '1. Heat a little olive oil in a pan. 2. Add chopped onions (if you have any) and garlic (if you have any). 3. Add the chopped potatoes and sweet potatoes. 4. Add a splash of vegetable broth or water if needed. 5. Cover and cook until tender. Season with salt to taste.  6. Serve warm.',\n",
       "  'recipe_name': 'Potato and Sweet Potato Mash'}]"
      ]
     },
     "execution_count": 163,
     "metadata": {},
     "output_type": "execute_result"
    }
   ],
   "source": [
    "from collections import defaultdict\n",
    "recipe_list = []\n",
    "j = 0\n",
    "for i in range(0, 5):\n",
    "    current_recipe = {}\n",
    "    for i in range(0, 3): \n",
    "        if j < 15:\n",
    "            current_match = matches[j]\n",
    "            current_recipe[current_match[0]] = current_match[1]\n",
    "        j += 1\n",
    "    recipe_list.append(current_recipe)\n",
    "    \n",
    "recipe_list\n",
    "        \n",
    "    "
   ]
  },
  {
   "cell_type": "code",
   "execution_count": 153,
   "metadata": {},
   "outputs": [
    {
     "name": "stdout",
     "output_type": "stream",
     "text": [
      "[{'extra_ingredients': 'Olive oil, salt, pepper',\n",
      "  'recipe_instructions': '1. Wash and chop potatoes and sweet potatoes into '\n",
      "                         '1-inch cubes. 2. Toss with olive oil, salt, and '\n",
      "                         'pepper. 3. Spread on a baking sheet and roast at '\n",
      "                         '400°F (200°C) for 20-25 minutes, or until tender. '\n",
      "                         '4.  While the potatoes roast, prepare the cilantro '\n",
      "                         'by washing and chopping it finely. 5. Once the '\n",
      "                         'potatoes are cooked, sprinkle with fresh cilantro '\n",
      "                         'before serving.'},\n",
      " {'extra_ingredients': 'Butter, salt, pepper',\n",
      "  'recipe_instructions': '1. Boil or steam the Ditalini pasta until al dente. '\n",
      "                         '2. While the pasta cooks, melt butter in a pan. 3. '\n",
      "                         'Drain the pasta and add it to the pan with the '\n",
      "                         'melted butter. 4. Season with salt and pepper to '\n",
      "                         'taste. 5. Stir well to combine. 6. Serve '\n",
      "                         'immediately.',\n",
      "  'recipe_name': 'Roasted Sweet and Regular Potatoes with Cilantro'},\n",
      " {'extra_ingredients': 'Salt, pepper',\n",
      "  'recipe_instructions': '1. Wash and chop zucchini and mushrooms. 2. Heat '\n",
      "                         'olive oil in a pan and sauté the vegetables until '\n",
      "                         'tender. Season with salt and pepper to taste. 3. '\n",
      "                         'Serve as a side dish or add to other dishes.',\n",
      "  'recipe_name': 'Simple Ditalini Pasta with Butter'},\n",
      " {'extra_ingredients': 'Olive oil, salt, pepper',\n",
      "  'recipe_instructions': '1. Heat olive oil in a pan. 2. Add chopped zucchini '\n",
      "                         'and mushrooms and sauté until softened. 3.  Add the '\n",
      "                         'chopped parsley and cook for another minute. 4. '\n",
      "                         'Season with salt and pepper to taste. 5. Serve as a '\n",
      "                         'side dish or topping.',\n",
      "  'recipe_name': 'Sautéed Zucchini and Mushrooms'},\n",
      " {'extra_ingredients': 'Salt',\n",
      "  'recipe_instructions': '1. Heat a little olive oil in a pan. 2. Add chopped '\n",
      "                         'onions (if you have any) and garlic (if you have '\n",
      "                         'any). 3. Add the chopped potatoes and sweet '\n",
      "                         'potatoes. 4. Add a splash of vegetable broth or '\n",
      "                         'water if needed. 5. Cover and cook until tender. '\n",
      "                         'Season with salt to taste.  6. Serve warm.',\n",
      "  'recipe_name': 'Zucchini, Mushroom and Parsley Saute'},\n",
      " {'recipe_name': 'Potato and Sweet Potato Mash'}]\n"
     ]
    }
   ],
   "source": [
    "from collections import defaultdict\n",
    "from pprint import pprint\n",
    "\n",
    "recipes = {} \n",
    "current_recipe = defaultdict(str)\n",
    "for key, value in matches: \n",
    "    if key == \"recipe_name\": \n",
    "        recipes[key] = {}\n",
    "    current_recipe[key] = value\n",
    "\n",
    "if current_recipe: \n",
    "    recipes.append(dict(current_recipe))\n",
    "    \n",
    "pprint(recipes)\n",
    "        "
   ]
  },
  {
   "cell_type": "code",
   "execution_count": 124,
   "metadata": {},
   "outputs": [],
   "source": [
    "\n"
   ]
  },
  {
   "cell_type": "code",
   "execution_count": null,
   "metadata": {},
   "outputs": [],
   "source": [
    "\n"
   ]
  },
  {
   "cell_type": "code",
   "execution_count": 100,
   "metadata": {},
   "outputs": [
    {
     "data": {
      "text/plain": [
       "['\"extra_ingredients\": \"Olive oil, salt, pepper',\n",
       " '\"recipe_instructions\": \"1. Wash and chop potatoes and sweet potatoes into 1-inch cubes. 2. Toss with olive oil, salt, and pepper. 3. Spread on a baking sheet and roast at 400°F (200°C) for 20-25 minutes, or until tender. 4.  While the potatoes roast, prepare the cilantro by washing and chopping it finely. 5. Once the potatoes are cooked, sprinkle with fresh cilantro before serving.',\n",
       " '\"recipe_name\": \"Roasted Sweet and Regular Potatoes with Cilantro\"']"
      ]
     },
     "execution_count": 100,
     "metadata": {},
     "output_type": "execute_result"
    }
   ],
   "source": []
  },
  {
   "cell_type": "code",
   "execution_count": 45,
   "metadata": {},
   "outputs": [
    {
     "data": {
      "text/plain": [
       "'Olive oil, salt, pepper\", \"recipe_instructions\": \"1. Wash and chop potatoes and sweet potatoes into 1-inch cubes. 2. Toss with olive oil, salt, and pepper. 3. Spread on a baking sheet and roast at 400°F (200°C) for 20-25 minutes, or until tender. 4.  While the potatoes roast, prepare the cilantro by washing and chopping it finely. 5. Once the potatoes are cooked, sprinkle with fresh cilantro before serving.\", \"recipe_name\": \"Roasted Sweet and Regular Potatoes with Cilantro\"}, {\"extra_ingredients\": \"Butter, salt, pepper\", \"recipe_instructions\": \"1. Boil or steam the Ditalini pasta until al dente. 2. While the pasta cooks, melt butter in a pan. 3. Drain the pasta and add it to the pan with the melted butter. 4. Season with salt and pepper to taste. 5. Stir well to combine. 6. Serve immediately.\", \"recipe_name\": \"Simple Ditalini Pasta with Butter\"}, {\"extra_ingredients\": \"Salt, pepper\", \"recipe_instructions\": \"1. Wash and chop zucchini and mushrooms. 2. Heat olive oil in a pan and sauté the vegetables until tender. Season with salt and pepper to taste. 3. Serve as a side dish or add to other dishes.\", \"recipe_name\": \"Sautéed Zucchini and Mushrooms\"}, {\"extra_ingredients\": \"Olive oil, salt, pepper\", \"recipe_instructions\": \"1. Heat olive oil in a pan. 2. Add chopped zucchini and mushrooms and sauté until softened. 3.  Add the chopped parsley and cook for another minute. 4. Season with salt and pepper to taste. 5. Serve as a side dish or topping.\", \"recipe_name\": \"Zucchini, Mushroom and Parsley Saute\"}, {\"extra_ingredients\": \"Salt\", \"recipe_instructions\": \"1. Heat a little olive oil in a pan. 2. Add chopped onions (if you have any) and garlic (if you have any). 3. Add the chopped potatoes and sweet potatoes. 4. Add a splash of vegetable broth or water if needed. 5. Cover and cook until tender. Season with salt to taste.  6. Serve warm.\", \"recipe_name\": \"Potato and Sweet Potato Mash'"
      ]
     },
     "execution_count": 45,
     "metadata": {},
     "output_type": "execute_result"
    }
   ],
   "source": [
    "KEYS = [\"extra_ingredients\", \"recipe_instructions\", \"recipe_name\"]\n",
    "\n",
    "\n",
    "i_end = recipe.find('extra_ingredients') + len('extra_ingredients')\n",
    "ingredients = recipe[i_end + 4:]\n",
    "ingredients"
   ]
  },
  {
   "cell_type": "code",
   "execution_count": null,
   "metadata": {},
   "outputs": [],
   "source": []
  }
 ],
 "metadata": {
  "kernelspec": {
   "display_name": "Python 3",
   "language": "python",
   "name": "python3"
  },
  "language_info": {
   "codemirror_mode": {
    "name": "ipython",
    "version": 3
   },
   "file_extension": ".py",
   "mimetype": "text/x-python",
   "name": "python",
   "nbconvert_exporter": "python",
   "pygments_lexer": "ipython3",
   "version": "3.12.5"
  }
 },
 "nbformat": 4,
 "nbformat_minor": 2
}
