{
 "cells": [
  {
   "cell_type": "code",
   "execution_count": 1,
   "metadata": {},
   "outputs": [
    {
     "name": "stdout",
     "output_type": "stream",
     "text": [
      "Collecting python-dotenv\n",
      "  Using cached python_dotenv-1.0.1-py3-none-any.whl.metadata (23 kB)\n",
      "Using cached python_dotenv-1.0.1-py3-none-any.whl (19 kB)\n",
      "Installing collected packages: python-dotenv\n",
      "Successfully installed python-dotenv-1.0.1\n",
      "Note: you may need to restart the kernel to use updated packages.\n"
     ]
    },
    {
     "name": "stderr",
     "output_type": "stream",
     "text": [
      "  WARNING: The script dotenv.exe is installed in 'c:\\Users\\hiyam\\AppData\\Local\\Programs\\Python\\Python312\\Scripts' which is not on PATH.\n",
      "  Consider adding this directory to PATH or, if you prefer to suppress this warning, use --no-warn-script-location.\n",
      "\n",
      "[notice] A new release of pip is available: 24.2 -> 25.0\n",
      "[notice] To update, run: python.exe -m pip install --upgrade pip\n"
     ]
    }
   ],
   "source": [
    "%pip install python-dotenv --upgrade\n"
   ]
  },
  {
   "cell_type": "code",
   "execution_count": 2,
   "metadata": {},
   "outputs": [
    {
     "name": "stdout",
     "output_type": "stream",
     "text": [
      "Note: you may need to restart the kernel to use updated packages.\n"
     ]
    },
    {
     "name": "stderr",
     "output_type": "stream",
     "text": [
      "  WARNING: The script tqdm.exe is installed in 'c:\\Users\\hiyam\\AppData\\Local\\Programs\\Python\\Python312\\Scripts' which is not on PATH.\n",
      "  Consider adding this directory to PATH or, if you prefer to suppress this warning, use --no-warn-script-location.\n",
      "  WARNING: The script normalizer.exe is installed in 'c:\\Users\\hiyam\\AppData\\Local\\Programs\\Python\\Python312\\Scripts' which is not on PATH.\n",
      "  Consider adding this directory to PATH or, if you prefer to suppress this warning, use --no-warn-script-location.\n",
      "  WARNING: The scripts pyrsa-decrypt.exe, pyrsa-encrypt.exe, pyrsa-keygen.exe, pyrsa-priv2pub.exe, pyrsa-sign.exe and pyrsa-verify.exe are installed in 'c:\\Users\\hiyam\\AppData\\Local\\Programs\\Python\\Python312\\Scripts' which is not on PATH.\n",
      "  Consider adding this directory to PATH or, if you prefer to suppress this warning, use --no-warn-script-location.\n",
      "\n",
      "[notice] A new release of pip is available: 24.2 -> 25.0\n",
      "[notice] To update, run: python.exe -m pip install --upgrade pip\n"
     ]
    }
   ],
   "source": [
    "%pip install -q -U google-generativeai"
   ]
  },
  {
   "cell_type": "code",
   "execution_count": 5,
   "metadata": {},
   "outputs": [],
   "source": [
    "import google.generativeai as genai\n",
    "import os\n",
    "from dotenv import load_dotenv, dotenv_values\n"
   ]
  },
  {
   "cell_type": "code",
   "execution_count": 6,
   "metadata": {},
   "outputs": [
    {
     "data": {
      "text/plain": [
       "True"
      ]
     },
     "execution_count": 6,
     "metadata": {},
     "output_type": "execute_result"
    }
   ],
   "source": [
    "load_dotenv()"
   ]
  },
  {
   "cell_type": "code",
   "execution_count": 9,
   "metadata": {},
   "outputs": [],
   "source": [
    "genai.configure(api_key=os.getenv(\"GEM_API_KEY\"))\n"
   ]
  },
  {
   "cell_type": "code",
   "execution_count": 10,
   "metadata": {},
   "outputs": [],
   "source": [
    "model = genai.GenerativeModel(\"gemini-1.5-flash\")"
   ]
  },
  {
   "cell_type": "code",
   "execution_count": 11,
   "metadata": {},
   "outputs": [],
   "source": [
    "response = model.generate_content(\"Tomatoes, Garlic, Pasta, Basil. Find me some recipes\")"
   ]
  },
  {
   "cell_type": "code",
   "execution_count": 12,
   "metadata": {},
   "outputs": [
    {
     "data": {
      "text/plain": [
       "\"Those four ingredients are the basis for many delicious Italian dishes! Here are a few recipe ideas, ranging in complexity:\\n\\n\\n**Simple & Quick:**\\n\\n* **Aglio e Olio with Tomatoes:**  Sauté minced garlic in olive oil until fragrant. Add halved cherry tomatoes or diced larger tomatoes. Cook until softened. Toss with cooked pasta, fresh basil, salt, and pepper.  A splash of red pepper flakes adds a nice kick.\\n\\n* **Tomato and Garlic Pasta:**  Similar to above, but you can add a touch of cream or a spoonful of tomato paste for a richer sauce.  Simmer the tomatoes longer to create a more saucy consistency.\\n\\n\\n**Slightly More Involved:**\\n\\n* **Pasta with Burst Cherry Tomatoes and Garlic:** Roast cherry tomatoes with garlic and olive oil until they burst and caramelize. Toss with cooked pasta and basil. This method brings out a deeper sweetness in the tomatoes.\\n\\n* **Simple Tomato Basil Pasta with Garlic Confit:** Make garlic confit (slowly cooking garlic cloves in olive oil until soft and golden) ahead of time.  Then, sauté the confit garlic in fresh olive oil, add diced tomatoes, and simmer until slightly thickened. Toss with pasta and basil. The confit garlic adds a mellow, intense garlic flavor.\\n\\n\\n**More Advanced (but still manageable):**\\n\\n* **Pasta Puttanesca (simplified):** While a true Puttanesca has more ingredients, you can make a simplified version with your base ingredients. Sauté garlic in olive oil, add diced tomatoes, a pinch of red pepper flakes, olives (if you have them!), capers (optional), and simmer until slightly thickened. Toss with cooked pasta and basil.\\n\\n**Tips for all recipes:**\\n\\n* **Use good quality ingredients:** Fresh basil makes a huge difference.\\n* **Don't overcook the pasta:** Cook it al dente (firm to the bite).\\n* **Season generously:** Salt and freshly ground black pepper are essential.\\n* **Add a finishing touch of olive oil:** A drizzle of good olive oil at the end brightens the dish.\\n\\n\\nTo get more specific recipe instructions, I'd need to know what kind of pasta you're using (spaghetti, penne, etc.) and your preferred level of spice.  Let me know if you want more details on any of these ideas, or want a recipe tailored to a specific pasta shape.\\n\""
      ]
     },
     "execution_count": 12,
     "metadata": {},
     "output_type": "execute_result"
    }
   ],
   "source": [
    "print(response.text)"
   ]
  },
  {
   "cell_type": "code",
   "execution_count": null,
   "metadata": {},
   "outputs": [],
   "source": []
  }
 ],
 "metadata": {
  "kernelspec": {
   "display_name": "Python 3",
   "language": "python",
   "name": "python3"
  },
  "language_info": {
   "codemirror_mode": {
    "name": "ipython",
    "version": 3
   },
   "file_extension": ".py",
   "mimetype": "text/x-python",
   "name": "python",
   "nbconvert_exporter": "python",
   "pygments_lexer": "ipython3",
   "version": "3.12.5"
  }
 },
 "nbformat": 4,
 "nbformat_minor": 2
}
